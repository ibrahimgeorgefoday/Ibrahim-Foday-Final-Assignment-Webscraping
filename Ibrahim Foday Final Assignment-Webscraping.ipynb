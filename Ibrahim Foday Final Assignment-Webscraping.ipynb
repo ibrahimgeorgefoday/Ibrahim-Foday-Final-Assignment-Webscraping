{
 "cells": [
  {
   "cell_type": "markdown",
   "id": "0e114592-caba-4674-b3bd-2ef5dee7dc3f",
   "metadata": {},
   "source": [
    "<h2><strong>Question 1: Use yfinance to Extract Stock Data</strong></h2>"
   ]
  },
  {
   "cell_type": "code",
   "execution_count": 12,
   "id": "b1545b23-a7e2-4e6e-8cff-67aefd427a3b",
   "metadata": {},
   "outputs": [],
   "source": [
    "import yfinance as yf"
   ]
  },
  {
   "cell_type": "code",
   "execution_count": 13,
   "id": "fed6faeb-c119-4876-b06e-2dfb064bd436",
   "metadata": {},
   "outputs": [
    {
     "name": "stdout",
     "output_type": "stream",
     "text": [
      "[*********************100%***********************]  1 of 1 completed\n"
     ]
    }
   ],
   "source": [
    "# Extract stock data for Tesla\n",
    "tesla_data = yf.download(\"TSLA\")"
   ]
  },
  {
   "cell_type": "code",
   "execution_count": 14,
   "id": "c982d8be-f6c2-47da-9550-d3490742ee6d",
   "metadata": {},
   "outputs": [],
   "source": [
    "# Reset the index\n",
    "tesla_data = tesla_data.reset_index()"
   ]
  },
  {
   "cell_type": "code",
   "execution_count": 15,
   "id": "5c233948-95ed-4248-ac46-9cd6df9c4f6b",
   "metadata": {},
   "outputs": [
    {
     "name": "stdout",
     "output_type": "stream",
     "text": [
      "        Date      Open      High       Low     Close  Adj Close     Volume\n",
      "0 2010-06-29  1.266667  1.666667  1.169333  1.592667   1.592667  281494500\n",
      "1 2010-06-30  1.719333  2.028000  1.553333  1.588667   1.588667  257806500\n",
      "2 2010-07-01  1.666667  1.728000  1.351333  1.464000   1.464000  123282000\n",
      "3 2010-07-02  1.533333  1.540000  1.247333  1.280000   1.280000   77097000\n",
      "4 2010-07-06  1.333333  1.333333  1.055333  1.074000   1.074000  103003500\n"
     ]
    }
   ],
   "source": [
    "# Display the first five rows\n",
    "print(tesla_data.head())"
   ]
  },
  {
   "cell_type": "markdown",
   "id": "e9017b69-37d9-4206-923a-af12fdc19519",
   "metadata": {},
   "source": [
    "<h2><strong>Question 2: Use Webscraping to Extract Tesla Revenue DATA</strong></h2>"
   ]
  },
  {
   "cell_type": "code",
   "execution_count": 28,
   "id": "c9f0841f-cf37-4c56-a73e-9ae8ad0916c1",
   "metadata": {},
   "outputs": [],
   "source": [
    "import requests\n",
    "from bs4 import BeautifulSoup\n",
    "from tabulate import tabulate"
   ]
  },
  {
   "cell_type": "code",
   "execution_count": 29,
   "id": "c4d3d34b-5ba8-4347-aeff-8b801df8cbf4",
   "metadata": {},
   "outputs": [],
   "source": [
    "url = 'https://www.macrotrends.net/stocks/charts/TSLA/tesla/revenue'\n",
    "response = requests.get(url)\n",
    "content = response.content"
   ]
  },
  {
   "cell_type": "code",
   "execution_count": 30,
   "id": "02096c42-04f6-4086-be4d-5830ac3b9319",
   "metadata": {},
   "outputs": [],
   "source": [
    "soup = BeautifulSoup(content, 'html.parser')"
   ]
  },
  {
   "cell_type": "code",
   "execution_count": 31,
   "id": "0f25a464-0570-407a-9604-45c65f047031",
   "metadata": {},
   "outputs": [],
   "source": [
    "revenue_table = soup.find('table', {'class': 'historical_data_table'})"
   ]
  },
  {
   "cell_type": "code",
   "execution_count": 32,
   "id": "1c0c3c83-ceaa-45e6-a9e6-83852e71834c",
   "metadata": {},
   "outputs": [],
   "source": [
    "revenue_data = []\n",
    "rows = revenue_table.find_all('tr')\n",
    "for row in rows[1:]:\n",
    "    columns = row.find_all('td')\n",
    "    date = columns[0].text.strip()\n",
    "    revenue = columns[1].text.strip()\n",
    "    revenue_data.append([date, revenue])"
   ]
  },
  {
   "cell_type": "code",
   "execution_count": 33,
   "id": "166b697c-c5db-4c96-bcd7-a04fb5a48342",
   "metadata": {},
   "outputs": [
    {
     "name": "stdout",
     "output_type": "stream",
     "text": [
      "+--------+-----------+\n",
      "|   Date | Revenue   |\n",
      "+========+===========+\n",
      "|   2022 | $81,462   |\n",
      "+--------+-----------+\n",
      "|   2021 | $53,823   |\n",
      "+--------+-----------+\n",
      "|   2020 | $31,536   |\n",
      "+--------+-----------+\n",
      "|   2019 | $24,578   |\n",
      "+--------+-----------+\n",
      "|   2018 | $21,461   |\n",
      "+--------+-----------+\n"
     ]
    }
   ],
   "source": [
    "print(tabulate(revenue_data[:5], headers=['Date', 'Revenue'], tablefmt='grid'))"
   ]
  },
  {
   "cell_type": "markdown",
   "id": "9b726a29-1752-481c-a81a-b7f5976d4a40",
   "metadata": {},
   "source": [
    "<h2><strong>Question 3: Use yfinance to Extract Stock Data</strong></h2>"
   ]
  },
  {
   "cell_type": "code",
   "execution_count": 17,
   "id": "ad081e54-bd7d-4a99-848d-0d91285788b9",
   "metadata": {},
   "outputs": [],
   "source": [
    "import yfinance as yf"
   ]
  },
  {
   "cell_type": "code",
   "execution_count": 18,
   "id": "a8f8c30b-1073-4f2c-a1c2-408ea64d9436",
   "metadata": {},
   "outputs": [
    {
     "name": "stdout",
     "output_type": "stream",
     "text": [
      "[*********************100%***********************]  1 of 1 completed\n"
     ]
    }
   ],
   "source": [
    "gme_data = yf.download(\"GME\", start=\"2022-01-01\", end=\"2023-07-10\")"
   ]
  },
  {
   "cell_type": "code",
   "execution_count": 19,
   "id": "e1638c42-8536-4c18-8345-cb71d4852161",
   "metadata": {},
   "outputs": [],
   "source": [
    "gme_data.reset_index(inplace=True)"
   ]
  },
  {
   "cell_type": "code",
   "execution_count": 20,
   "id": "00d9b977-5efe-430e-9bea-ab466abe51b2",
   "metadata": {},
   "outputs": [
    {
     "data": {
      "text/html": [
       "<div>\n",
       "<style scoped>\n",
       "    .dataframe tbody tr th:only-of-type {\n",
       "        vertical-align: middle;\n",
       "    }\n",
       "\n",
       "    .dataframe tbody tr th {\n",
       "        vertical-align: top;\n",
       "    }\n",
       "\n",
       "    .dataframe thead th {\n",
       "        text-align: right;\n",
       "    }\n",
       "</style>\n",
       "<table border=\"1\" class=\"dataframe\">\n",
       "  <thead>\n",
       "    <tr style=\"text-align: right;\">\n",
       "      <th></th>\n",
       "      <th>Date</th>\n",
       "      <th>Open</th>\n",
       "      <th>High</th>\n",
       "      <th>Low</th>\n",
       "      <th>Close</th>\n",
       "      <th>Adj Close</th>\n",
       "      <th>Volume</th>\n",
       "    </tr>\n",
       "  </thead>\n",
       "  <tbody>\n",
       "    <tr>\n",
       "      <th>0</th>\n",
       "      <td>2022-01-03</td>\n",
       "      <td>37.307499</td>\n",
       "      <td>39.845001</td>\n",
       "      <td>37.302502</td>\n",
       "      <td>38.209999</td>\n",
       "      <td>38.209999</td>\n",
       "      <td>5654800</td>\n",
       "    </tr>\n",
       "    <tr>\n",
       "      <th>1</th>\n",
       "      <td>2022-01-04</td>\n",
       "      <td>38.042500</td>\n",
       "      <td>38.247501</td>\n",
       "      <td>35.762501</td>\n",
       "      <td>37.227501</td>\n",
       "      <td>37.227501</td>\n",
       "      <td>7339600</td>\n",
       "    </tr>\n",
       "    <tr>\n",
       "      <th>2</th>\n",
       "      <td>2022-01-05</td>\n",
       "      <td>37.097500</td>\n",
       "      <td>37.212502</td>\n",
       "      <td>32.287498</td>\n",
       "      <td>32.342499</td>\n",
       "      <td>32.342499</td>\n",
       "      <td>13585600</td>\n",
       "    </tr>\n",
       "    <tr>\n",
       "      <th>3</th>\n",
       "      <td>2022-01-06</td>\n",
       "      <td>33.209999</td>\n",
       "      <td>34.424999</td>\n",
       "      <td>30.285000</td>\n",
       "      <td>32.757500</td>\n",
       "      <td>32.757500</td>\n",
       "      <td>24206000</td>\n",
       "    </tr>\n",
       "    <tr>\n",
       "      <th>4</th>\n",
       "      <td>2022-01-07</td>\n",
       "      <td>39.942501</td>\n",
       "      <td>40.077499</td>\n",
       "      <td>33.125000</td>\n",
       "      <td>35.154999</td>\n",
       "      <td>35.154999</td>\n",
       "      <td>48549200</td>\n",
       "    </tr>\n",
       "  </tbody>\n",
       "</table>\n",
       "</div>"
      ],
      "text/plain": [
       "        Date       Open       High        Low      Close  Adj Close    Volume\n",
       "0 2022-01-03  37.307499  39.845001  37.302502  38.209999  38.209999   5654800\n",
       "1 2022-01-04  38.042500  38.247501  35.762501  37.227501  37.227501   7339600\n",
       "2 2022-01-05  37.097500  37.212502  32.287498  32.342499  32.342499  13585600\n",
       "3 2022-01-06  33.209999  34.424999  30.285000  32.757500  32.757500  24206000\n",
       "4 2022-01-07  39.942501  40.077499  33.125000  35.154999  35.154999  48549200"
      ]
     },
     "execution_count": 20,
     "metadata": {},
     "output_type": "execute_result"
    }
   ],
   "source": [
    "gme_data.head()"
   ]
  },
  {
   "cell_type": "markdown",
   "id": "fe9752ff-3d87-4e00-b987-2454cf3eb5e9",
   "metadata": {},
   "source": [
    "<h2><strong>Question 4: Use Webscraping to Extract GME Revenue Data</strong></h2>"
   ]
  },
  {
   "cell_type": "code",
   "execution_count": 21,
   "id": "49d55b57-cd05-4c7a-8788-bce0899a8577",
   "metadata": {},
   "outputs": [],
   "source": [
    "import requests\n",
    "from bs4 import BeautifulSoup\n",
    "import pandas as pd"
   ]
  },
  {
   "cell_type": "code",
   "execution_count": 22,
   "id": "0a09cb7d-82cf-4315-a0b7-1aaaf8220de4",
   "metadata": {},
   "outputs": [],
   "source": [
    "url = 'https://www.macrotrends.net/stocks/charts/GME/gamestop/revenue'\n",
    "response = requests.get(url)\n",
    "content = response.content"
   ]
  },
  {
   "cell_type": "code",
   "execution_count": 23,
   "id": "f1cfee2f-fb06-44aa-a13f-ead51b28f550",
   "metadata": {},
   "outputs": [],
   "source": [
    "soup = BeautifulSoup(content, 'html.parser')"
   ]
  },
  {
   "cell_type": "code",
   "execution_count": 24,
   "id": "8c1d2848-e007-49f7-829c-43473d63a324",
   "metadata": {},
   "outputs": [],
   "source": [
    "revenue_table = soup.find('table', {'class': 'historical_data_table'})"
   ]
  },
  {
   "cell_type": "code",
   "execution_count": 25,
   "id": "cee46a45-5755-416c-ba7e-129e64b37dbf",
   "metadata": {},
   "outputs": [],
   "source": [
    "gme_revenue = pd.DataFrame(columns=['Date', 'Revenue'])"
   ]
  },
  {
   "cell_type": "code",
   "execution_count": 26,
   "id": "1b878f2c-a311-4608-b8ad-4dda6e30e25f",
   "metadata": {},
   "outputs": [],
   "source": [
    "gme_revenue = pd.DataFrame(columns=['Date', 'Revenue'])\n",
    "\n",
    "for row in revenue_table.find_all('tr')[1:]:\n",
    "    columns = row.find_all('td')\n",
    "    date = columns[0].text.strip()\n",
    "    revenue = columns[1].text.strip().replace(',', '')\n",
    "    gme_revenue = pd.concat([gme_revenue, pd.DataFrame({'Date': [date], 'Revenue': [revenue]})], ignore_index=True)"
   ]
  },
  {
   "cell_type": "code",
   "execution_count": 27,
   "id": "2ea19c7c-0cb1-462d-ae8c-42ab77347a89",
   "metadata": {},
   "outputs": [
    {
     "data": {
      "text/html": [
       "<div>\n",
       "<style scoped>\n",
       "    .dataframe tbody tr th:only-of-type {\n",
       "        vertical-align: middle;\n",
       "    }\n",
       "\n",
       "    .dataframe tbody tr th {\n",
       "        vertical-align: top;\n",
       "    }\n",
       "\n",
       "    .dataframe thead th {\n",
       "        text-align: right;\n",
       "    }\n",
       "</style>\n",
       "<table border=\"1\" class=\"dataframe\">\n",
       "  <thead>\n",
       "    <tr style=\"text-align: right;\">\n",
       "      <th></th>\n",
       "      <th>Date</th>\n",
       "      <th>Revenue</th>\n",
       "    </tr>\n",
       "  </thead>\n",
       "  <tbody>\n",
       "    <tr>\n",
       "      <th>10</th>\n",
       "      <td>2013</td>\n",
       "      <td>$8887</td>\n",
       "    </tr>\n",
       "    <tr>\n",
       "      <th>11</th>\n",
       "      <td>2012</td>\n",
       "      <td>$9551</td>\n",
       "    </tr>\n",
       "    <tr>\n",
       "      <th>12</th>\n",
       "      <td>2011</td>\n",
       "      <td>$9474</td>\n",
       "    </tr>\n",
       "    <tr>\n",
       "      <th>13</th>\n",
       "      <td>2010</td>\n",
       "      <td>$9078</td>\n",
       "    </tr>\n",
       "    <tr>\n",
       "      <th>14</th>\n",
       "      <td>2009</td>\n",
       "      <td>$8806</td>\n",
       "    </tr>\n",
       "  </tbody>\n",
       "</table>\n",
       "</div>"
      ],
      "text/plain": [
       "    Date Revenue\n",
       "10  2013   $8887\n",
       "11  2012   $9551\n",
       "12  2011   $9474\n",
       "13  2010   $9078\n",
       "14  2009   $8806"
      ]
     },
     "execution_count": 27,
     "metadata": {},
     "output_type": "execute_result"
    }
   ],
   "source": [
    "gme_revenue.tail()"
   ]
  },
  {
   "cell_type": "markdown",
   "id": "4757d510-5877-4393-9ffe-65be6452d15c",
   "metadata": {},
   "source": [
    "<h2><strong>Question 5: Plot Tesla Stock Graph</strong></h2>"
   ]
  },
  {
   "cell_type": "code",
   "execution_count": 39,
   "id": "f443aa58-cd8c-478a-93ea-c40ac215ec49",
   "metadata": {},
   "outputs": [],
   "source": [
    "import yfinance as yf\n",
    "import matplotlib.pyplot as plt"
   ]
  },
  {
   "cell_type": "code",
   "execution_count": 40,
   "id": "3baf0abe-469e-473d-b0de-06cc637b52bc",
   "metadata": {},
   "outputs": [
    {
     "name": "stdout",
     "output_type": "stream",
     "text": [
      "[*********************100%***********************]  1 of 1 completed\n"
     ]
    }
   ],
   "source": [
    "# Extract stock data for Tesla\n",
    "tesla_data = yf.download(\"TSLA\")"
   ]
  },
  {
   "cell_type": "code",
   "execution_count": 41,
   "id": "be073a98-5f79-458f-a52d-f9f40329bd6d",
   "metadata": {},
   "outputs": [],
   "source": [
    "# Reset the index\n",
    "tesla_data = tesla_data.reset_index()"
   ]
  },
  {
   "cell_type": "code",
   "execution_count": 46,
   "id": "7bae1f4f-505e-418a-81ea-3dad606bc7cf",
   "metadata": {},
   "outputs": [
    {
     "data": {
      "image/png": "[encoded data removed]",
      "text/plain": [
       "<Figure size 640x480 with 1 Axes>"
      ]
     },
     "metadata": {},
     "output_type": "display_data"
    }
   ],
   "source": [
    "# Plotting the graph\n",
    "plt.plot(tesla_data['Date'], tesla_data['Close'])\n",
    "plt.xlabel('Date')\n",
    "plt.ylabel('Stock Price (USD)')\n",
    "plt.title('Tesla Stock Price History')\n",
    "\n",
    "# Rotating x-axis labels for better readability (optional)\n",
    "plt.xticks(rotation=45)\n",
    "\n",
    "# Display the graph\n",
    "plt.show()"
   ]
  },
  {
   "cell_type": "markdown",
   "id": "b03b52ab-2aba-4995-b5d4-eb7ab6ea332b",
   "metadata": {},
   "source": [
    "<h2><strong>Question 6: Plot GameStop Stock Graph</strong></h2>"
   ]
  },
  {
   "cell_type": "code",
   "execution_count": 47,
   "id": "34fa4a27-10cb-4c61-a518-27d79047a41b",
   "metadata": {},
   "outputs": [],
   "source": [
    "import yfinance as yf\n",
    "import matplotlib.pyplot as plt"
   ]
  },
  {
   "cell_type": "code",
   "execution_count": 48,
   "id": "3fb9e5ec-945f-4a35-bc0b-fbf940e5373b",
   "metadata": {},
   "outputs": [
    {
     "name": "stdout",
     "output_type": "stream",
     "text": [
      "[*********************100%***********************]  1 of 1 completed\n"
     ]
    }
   ],
   "source": [
    "# Download GameStop stock data from Yahoo Finance\n",
    "gme_data = yf.download(\"GME\", start=\"2022-01-01\", end=\"2023-07-10\")"
   ]
  },
  {
   "cell_type": "code",
   "execution_count": 49,
   "id": "c04c064f-5a3e-4767-9373-6523167ae80d",
   "metadata": {},
   "outputs": [],
   "source": [
    "# Reset the index to use the 'Date' column as a regular column\n",
    "gme_data.reset_index(inplace=True)"
   ]
  },
  {
   "cell_type": "code",
   "execution_count": 50,
   "id": "4cac676d-1f7b-4cad-ad92-a2b0fdcfb159",
   "metadata": {},
   "outputs": [
    {
     "data": {
      "image/png": "[encoded data removed]",
      "text/plain": [
       "<Figure size 640x480 with 1 Axes>"
      ]
     },
     "metadata": {},
     "output_type": "display_data"
    }
   ],
   "source": [
    "# Plotting the graph\n",
    "plt.plot(gme_data['Date'], gme_data['Close'])\n",
    "plt.xlabel('Date')\n",
    "plt.ylabel('Stock Price (USD)')\n",
    "plt.title('GameStop Stock Price History')\n",
    "\n",
    "# Rotating x-axis labels for better readability (optional)\n",
    "plt.xticks(rotation=45)\n",
    "\n",
    "# Display the graph\n",
    "plt.show()"
   ]
  }
 ],
 "metadata": {
  "kernelspec": {
   "display_name": "Python 3 (ipykernel)",
   "language": "python",
   "name": "python3"
  },
  "language_info": {
   "codemirror_mode": {
    "name": "ipython",
    "version": 3
   },
   "file_extension": ".py",
   "mimetype": "text/x-python",
   "name": "python",
   "nbconvert_exporter": "python",
   "pygments_lexer": "ipython3",
   "version": "3.10.9"
  }
 },
 "nbformat": 4,
 "nbformat_minor": 5
}
